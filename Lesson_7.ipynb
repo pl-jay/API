{
  "nbformat": 4,
  "nbformat_minor": 0,
  "metadata": {
    "colab": {
      "provenance": [],
      "include_colab_link": true
    },
    "kernelspec": {
      "name": "python3",
      "display_name": "Python 3"
    },
    "language_info": {
      "name": "python"
    }
  },
  "cells": [
    {
      "cell_type": "markdown",
      "metadata": {
        "id": "view-in-github",
        "colab_type": "text"
      },
      "source": [
        "<a href=\"https://colab.research.google.com/github/pl-jay/API/blob/master/Lesson_7.ipynb\" target=\"_parent\"><img src=\"https://colab.research.google.com/assets/colab-badge.svg\" alt=\"Open In Colab\"/></a>"
      ]
    },
    {
      "cell_type": "code",
      "execution_count": null,
      "metadata": {
        "id": "Hvj8j-0fO7zF"
      },
      "outputs": [],
      "source": [
        "\n",
        "from sklearn.feature_extraction.text import CountVectorizer"
      ]
    },
    {
      "cell_type": "code",
      "source": [
        "corpus = [\n",
        "'the sky is blue',\n",
        "'sky is blue and sky is beautiful',\n",
        "'the beautiful sky is so blue',\n",
        "'i love blue cheese'\n",
        "]\n",
        "\n",
        "new_doc = ['loving this blue sky today']"
      ],
      "metadata": {
        "id": "4yFif39kbfG7"
      },
      "execution_count": null,
      "outputs": []
    },
    {
      "cell_type": "code",
      "source": [
        "vec = CountVectorizer(min_df=1, ngram_range=(1,1))\n",
        "features = vec.fit_transform(corpus)"
      ],
      "metadata": {
        "id": "tyKLiC4rbyps"
      },
      "execution_count": null,
      "outputs": []
    },
    {
      "cell_type": "code",
      "source": [
        "print(features)"
      ],
      "metadata": {
        "colab": {
          "base_uri": "https://localhost:8080/"
        },
        "id": "lLu5pzEUcciZ",
        "outputId": "f730752a-59ef-45d2-a75a-92a50ab7a503"
      },
      "execution_count": null,
      "outputs": [
        {
          "output_type": "stream",
          "name": "stdout",
          "text": [
            "  (0, 8)\t1\n",
            "  (0, 6)\t1\n",
            "  (0, 4)\t1\n",
            "  (0, 2)\t1\n",
            "  (1, 6)\t2\n",
            "  (1, 4)\t2\n",
            "  (1, 2)\t1\n",
            "  (1, 0)\t1\n",
            "  (1, 1)\t1\n",
            "  (2, 8)\t1\n",
            "  (2, 6)\t1\n",
            "  (2, 4)\t1\n",
            "  (2, 2)\t1\n",
            "  (2, 1)\t1\n",
            "  (2, 7)\t1\n",
            "  (3, 2)\t1\n",
            "  (3, 5)\t1\n",
            "  (3, 3)\t1\n"
          ]
        }
      ]
    },
    {
      "cell_type": "code",
      "source": [
        "features1 = features.todense()\n",
        "print(features1)"
      ],
      "metadata": {
        "colab": {
          "base_uri": "https://localhost:8080/"
        },
        "id": "zryGDVOeezas",
        "outputId": "6f79a243-f923-4912-ae89-06d7bfa27a85"
      },
      "execution_count": null,
      "outputs": [
        {
          "output_type": "stream",
          "name": "stdout",
          "text": [
            "[[0 0 1 0 1 0 1 0 1]\n",
            " [1 1 1 0 2 0 2 0 0]\n",
            " [0 1 1 0 1 0 1 1 1]\n",
            " [0 0 1 1 0 1 0 0 0]]\n"
          ]
        }
      ]
    },
    {
      "cell_type": "code",
      "source": [
        "feature_names = vec.get_feature_names_out()\n",
        "print(feature_names)"
      ],
      "metadata": {
        "colab": {
          "base_uri": "https://localhost:8080/"
        },
        "id": "pSP2m17Mflfb",
        "outputId": "8fc8431a-4ccf-4c66-b297-22fe7ba945b0"
      },
      "execution_count": null,
      "outputs": [
        {
          "output_type": "stream",
          "name": "stdout",
          "text": [
            "['and' 'beautiful' 'blue' 'cheese' 'is' 'love' 'sky' 'so' 'the']\n"
          ]
        }
      ]
    },
    {
      "cell_type": "code",
      "source": [
        "new_doc_features = vec.transform(new_doc)\n",
        "new_doc_features = new_doc_features.todense()\n",
        "print(new_doc_features)"
      ],
      "metadata": {
        "colab": {
          "base_uri": "https://localhost:8080/"
        },
        "id": "Z-LhNY7cf5FI",
        "outputId": "16f0180f-7405-44f4-c3eb-7be2bcd43794"
      },
      "execution_count": null,
      "outputs": [
        {
          "output_type": "stream",
          "name": "stdout",
          "text": [
            "[[0 0 1 0 0 0 1 0 0]]\n"
          ]
        }
      ]
    },
    {
      "cell_type": "code",
      "source": [
        "import pandas as pd\n",
        "df = pd.DataFrame(data = features1, columns = feature_names)\n",
        "print(df)"
      ],
      "metadata": {
        "colab": {
          "base_uri": "https://localhost:8080/"
        },
        "id": "rv7FEG_SiOSR",
        "outputId": "2b8c27f2-8807-4d7e-89f3-068d8de337b6"
      },
      "execution_count": null,
      "outputs": [
        {
          "output_type": "stream",
          "name": "stdout",
          "text": [
            "   and  beautiful  blue  cheese  is  love  sky  so  the\n",
            "0    0          0     1       0   1     0    1   0    1\n",
            "1    1          1     1       0   2     0    2   0    0\n",
            "2    0          1     1       0   1     0    1   1    1\n",
            "3    0          0     1       1   0     1    0   0    0\n"
          ]
        }
      ]
    },
    {
      "cell_type": "markdown",
      "source": [
        "Create Functions for BOWs"
      ],
      "metadata": {
        "id": "eYkWkbZQjsuF"
      }
    },
    {
      "cell_type": "code",
      "source": [
        "def bow_extract(dataset, ngram_range=(3,3)):\n",
        "  vectorizer = CountVectorizer(min_df=1, ngram_range=ngram_range)\n",
        "  features = vectorizer.fit_transform(dataset)\n",
        "  return vectorizer, features"
      ],
      "metadata": {
        "id": "LGN019rQkBrW"
      },
      "execution_count": null,
      "outputs": []
    },
    {
      "cell_type": "code",
      "source": [
        "bow_vec, bow_features = bow_extract(corpus, (1,3))\n",
        "bow_features1 = bow_features.todense()\n",
        "print(bow_features1)"
      ],
      "metadata": {
        "colab": {
          "base_uri": "https://localhost:8080/"
        },
        "id": "8qEP1iidkt3y",
        "outputId": "34c8ec49-db29-4fdc-cc32-e7c0975f73b1"
      },
      "execution_count": null,
      "outputs": [
        {
          "output_type": "stream",
          "name": "stdout",
          "text": [
            "[[0 0 0 0 0 0 1 0 0 0 0 1 0 1 0 0 0 0 0 0 1 1 0 1 0 0 0 1 0 0 1 1]\n",
            " [1 1 1 1 0 0 1 1 1 0 0 2 1 1 1 0 0 0 0 0 2 2 1 1 0 0 0 0 0 0 0 0]\n",
            " [0 0 0 1 1 1 1 0 0 0 0 1 0 0 0 1 1 0 0 0 1 1 0 0 1 1 1 1 1 1 0 0]\n",
            " [0 0 0 0 0 0 1 0 0 1 1 0 0 0 0 0 0 1 1 1 0 0 0 0 0 0 0 0 0 0 0 0]]\n"
          ]
        }
      ]
    },
    {
      "cell_type": "code",
      "source": [
        "bow_feature_names = bow_vec.get_feature_names_out()\n",
        "print(bow_feature_names)"
      ],
      "metadata": {
        "colab": {
          "base_uri": "https://localhost:8080/"
        },
        "id": "Vu-Wjym8loUw",
        "outputId": "818e7639-0cce-41a1-f288-26fa90d9a758"
      },
      "execution_count": null,
      "outputs": [
        {
          "output_type": "stream",
          "name": "stdout",
          "text": [
            "['and' 'and sky' 'and sky is' 'beautiful' 'beautiful sky'\n",
            " 'beautiful sky is' 'blue' 'blue and' 'blue and sky' 'blue cheese'\n",
            " 'cheese' 'is' 'is beautiful' 'is blue' 'is blue and' 'is so' 'is so blue'\n",
            " 'love' 'love blue' 'love blue cheese' 'sky' 'sky is' 'sky is beautiful'\n",
            " 'sky is blue' 'sky is so' 'so' 'so blue' 'the' 'the beautiful'\n",
            " 'the beautiful sky' 'the sky' 'the sky is']\n"
          ]
        }
      ]
    }
  ]
}